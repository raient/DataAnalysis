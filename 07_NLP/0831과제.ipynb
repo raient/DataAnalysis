{
 "cells": [
  {
   "cell_type": "code",
   "execution_count": 1,
   "source": [
    "from selenium import webdriver\r\n",
    "from bs4 import BeautifulSoup\r\n",
    "import time\r\n",
    "import pandas as pd\r\n",
    "from urllib.parse import quote\r\n"
   ],
   "outputs": [],
   "metadata": {}
  },
  {
   "cell_type": "code",
   "execution_count": 2,
   "source": [
    "driver = webdriver.Chrome('chromedriver')"
   ],
   "outputs": [],
   "metadata": {}
  },
  {
   "cell_type": "code",
   "execution_count": 5,
   "source": [
    "base_url = 'https://search.naver.com/search.naver?where=view&sm=tab_jum&query='\r\n",
    "url = base_url+quote('도깨비 펄어비스')"
   ],
   "outputs": [],
   "metadata": {}
  },
  {
   "cell_type": "code",
   "execution_count": 6,
   "source": [
    "driver.get(url)"
   ],
   "outputs": [],
   "metadata": {}
  },
  {
   "cell_type": "code",
   "execution_count": 7,
   "source": [
    "# blog 페이지 아래로 내려서 많은 데이터 확보\r\n",
    "from selenium.webdriver.common.keys import Keys\r\n",
    "\r\n",
    "body = driver.find_element_by_tag_name('body')\r\n",
    "for i in range(30):\r\n",
    "    body.send_keys(Keys.PAGE_DOWN)\r\n",
    "    time.sleep(2)"
   ],
   "outputs": [],
   "metadata": {}
  },
  {
   "cell_type": "code",
   "execution_count": 8,
   "source": [
    "# html 코드 가져오기\r\n",
    "html = driver.page_source\r\n",
    "soup = BeautifulSoup(html, 'html.parser')\r\n"
   ],
   "outputs": [],
   "metadata": {}
  },
  {
   "cell_type": "code",
   "execution_count": 9,
   "source": [
    "lis = soup.select('li.bx._svp_item')\r\n",
    "len(lis)"
   ],
   "outputs": [
    {
     "output_type": "execute_result",
     "data": {
      "text/plain": [
       "135"
      ]
     },
     "metadata": {},
     "execution_count": 9
    }
   ],
   "metadata": {}
  },
  {
   "cell_type": "code",
   "execution_count": 10,
   "source": [
    "li = lis[0]\r\n",
    "title = li.select_one('a.api_txt_lines.total_tit._cross_trigger').get_text()\r\n",
    "content = li.select_one('div.api_txt_lines.dsc_txt').get_text()\r\n",
    "date = li.select_one('.sub_time.sub_txt').get_text()\r\n",
    "title, date, content"
   ],
   "outputs": [
    {
     "output_type": "execute_result",
     "data": {
      "text/plain": [
       "('펄어비스 도깨비 게임 플레이 분석',\n",
       " '5일 전',\n",
       " '게임 속 세상에서 다시 동심을 찾을 수 있는 요소를 가져 남녀노소 할 것 없이 게임을 즐길 수 있다는 게 장점이라 생각한다. 앞으로 펄어비스 도깨비가 잘 개발되었으면 좋겠다. 그럼, 이만.')"
      ]
     },
     "metadata": {},
     "execution_count": 10
    }
   ],
   "metadata": {}
  },
  {
   "cell_type": "code",
   "execution_count": 11,
   "source": [
    "title_list, content_list, date_list = [], [],[]\r\n",
    "for i, li in enumerate(lis):\r\n",
    "    try:\r\n",
    "        adv = li.select_one('a.link_ad').get_text()\r\n",
    "        if adv.strip()=='광고':\r\n",
    "            continue\r\n",
    "    except:\r\n",
    "        title = li.select_one('a.api_txt_lines.total_tit._cross_trigger').get_text()\r\n",
    "        content = li.select_one('div.api_txt_lines.dsc_txt').get_text()\r\n",
    "        date = li.select_one('.sub_time.sub_txt').get_text()\r\n",
    "\r\n",
    "        title_list.append(title)\r\n",
    "        content_list.append(content)\r\n",
    "        date_list.append(date)\r\n",
    "\r\n",
    "    \r\n",
    "    #    print(i)\r\n"
   ],
   "outputs": [],
   "metadata": {}
  },
  {
   "cell_type": "code",
   "execution_count": 13,
   "source": [
    "df = pd.DataFrame({\r\n",
    "    'title': title_list, 'date':date_list, 'content':content_list\r\n",
    "})\r\n",
    "\r\n",
    "df.head()"
   ],
   "outputs": [
    {
     "output_type": "execute_result",
     "data": {
      "text/plain": [
       "                                      title    date  \\\n",
       "0                        펄어비스 도깨비 게임 플레이 분석    5일 전   \n",
       "1            펄어비스 도깨비 총정리 주가를 떡상시킨 게임 DokeV    3일 전   \n",
       "2  [펄어비스] 도깨비 극찬! 붉은사막 대작 기대! 신작으로 기대감 업 소식  18시간 전   \n",
       "3  펄어비스 도깨비 실제 플레이 영상(해외 유저 반응) & 주식 떡상한 게임  19시간 전   \n",
       "4       펄어비스 신작 '도깨비' 국산 게임 이거 느낌이 상당히 좋은데?    4일 전   \n",
       "\n",
       "                                             content  \n",
       "0  게임 속 세상에서 다시 동심을 찾을 수 있는 요소를 가져 남녀노소 할 것 없이 게임...  \n",
       "1  지난 게임스컴 행사에서 공개된 펄어비스 신작 게임 도깨비(DokeV)의 게임 플레이...  \n",
       "2  그것을 그대로 도깨비에 녹여 도깨비를 수집~ 다양한 재미를 얻을 수 있게~ 그리고 ...  \n",
       "3  펄어비스의 도깨비 영상을 유심히 살펴보면 캐릭터의 머리카락이 하나씩 움직이거나 옷이...  \n",
       "4  마치 GTA가 포켓몬을 만난 것 같다.\" - 캐나다 게임 웹진 Game Rant 펄...  "
      ],
      "text/html": [
       "<div>\n",
       "<style scoped>\n",
       "    .dataframe tbody tr th:only-of-type {\n",
       "        vertical-align: middle;\n",
       "    }\n",
       "\n",
       "    .dataframe tbody tr th {\n",
       "        vertical-align: top;\n",
       "    }\n",
       "\n",
       "    .dataframe thead th {\n",
       "        text-align: right;\n",
       "    }\n",
       "</style>\n",
       "<table border=\"1\" class=\"dataframe\">\n",
       "  <thead>\n",
       "    <tr style=\"text-align: right;\">\n",
       "      <th></th>\n",
       "      <th>title</th>\n",
       "      <th>date</th>\n",
       "      <th>content</th>\n",
       "    </tr>\n",
       "  </thead>\n",
       "  <tbody>\n",
       "    <tr>\n",
       "      <th>0</th>\n",
       "      <td>펄어비스 도깨비 게임 플레이 분석</td>\n",
       "      <td>5일 전</td>\n",
       "      <td>게임 속 세상에서 다시 동심을 찾을 수 있는 요소를 가져 남녀노소 할 것 없이 게임...</td>\n",
       "    </tr>\n",
       "    <tr>\n",
       "      <th>1</th>\n",
       "      <td>펄어비스 도깨비 총정리 주가를 떡상시킨 게임 DokeV</td>\n",
       "      <td>3일 전</td>\n",
       "      <td>지난 게임스컴 행사에서 공개된 펄어비스 신작 게임 도깨비(DokeV)의 게임 플레이...</td>\n",
       "    </tr>\n",
       "    <tr>\n",
       "      <th>2</th>\n",
       "      <td>[펄어비스] 도깨비 극찬! 붉은사막 대작 기대! 신작으로 기대감 업 소식</td>\n",
       "      <td>18시간 전</td>\n",
       "      <td>그것을 그대로 도깨비에 녹여 도깨비를 수집~ 다양한 재미를 얻을 수 있게~ 그리고 ...</td>\n",
       "    </tr>\n",
       "    <tr>\n",
       "      <th>3</th>\n",
       "      <td>펄어비스 도깨비 실제 플레이 영상(해외 유저 반응) &amp; 주식 떡상한 게임</td>\n",
       "      <td>19시간 전</td>\n",
       "      <td>펄어비스의 도깨비 영상을 유심히 살펴보면 캐릭터의 머리카락이 하나씩 움직이거나 옷이...</td>\n",
       "    </tr>\n",
       "    <tr>\n",
       "      <th>4</th>\n",
       "      <td>펄어비스 신작 '도깨비' 국산 게임 이거 느낌이 상당히 좋은데?</td>\n",
       "      <td>4일 전</td>\n",
       "      <td>마치 GTA가 포켓몬을 만난 것 같다.\" - 캐나다 게임 웹진 Game Rant 펄...</td>\n",
       "    </tr>\n",
       "  </tbody>\n",
       "</table>\n",
       "</div>"
      ]
     },
     "metadata": {},
     "execution_count": 13
    }
   ],
   "metadata": {}
  },
  {
   "cell_type": "code",
   "execution_count": 14,
   "source": [
    "df.shape"
   ],
   "outputs": [
    {
     "output_type": "execute_result",
     "data": {
      "text/plain": [
       "(135, 3)"
      ]
     },
     "metadata": {},
     "execution_count": 14
    }
   ],
   "metadata": {}
  },
  {
   "cell_type": "code",
   "execution_count": 15,
   "source": [
    "df.to_csv('data/dokev.txt')"
   ],
   "outputs": [],
   "metadata": {}
  },
  {
   "cell_type": "code",
   "execution_count": 16,
   "source": [
    "driver.close()"
   ],
   "outputs": [],
   "metadata": {}
  },
  {
   "cell_type": "code",
   "execution_count": null,
   "source": [],
   "outputs": [],
   "metadata": {}
  }
 ],
 "metadata": {
  "orig_nbformat": 4,
  "language_info": {
   "name": "python",
   "version": "3.8.10",
   "mimetype": "text/x-python",
   "codemirror_mode": {
    "name": "ipython",
    "version": 3
   },
   "pygments_lexer": "ipython3",
   "nbconvert_exporter": "python",
   "file_extension": ".py"
  },
  "kernelspec": {
   "name": "python3",
   "display_name": "Python 3.8.10 64-bit ('base': conda)"
  },
  "interpreter": {
   "hash": "6d46af94c2bbce495f1e668725902fa517c90b1782bcfe2fce0dd9868df553d3"
  }
 },
 "nbformat": 4,
 "nbformat_minor": 2
}