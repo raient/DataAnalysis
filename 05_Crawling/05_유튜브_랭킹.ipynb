{
  "nbformat": 4,
  "nbformat_minor": 2,
  "metadata": {
    "colab": {
      "name": "05_유튜브 랭킹.ipynb",
      "provenance": [],
      "collapsed_sections": []
    },
    "kernelspec": {
      "name": "python3",
      "display_name": "Python 3.8.10 64-bit ('base': conda)"
    },
    "language_info": {
      "name": "python",
      "version": "3.8.10",
      "mimetype": "text/x-python",
      "codemirror_mode": {
        "name": "ipython",
        "version": 3
      },
      "pygments_lexer": "ipython3",
      "nbconvert_exporter": "python",
      "file_extension": ".py"
    },
    "interpreter": {
      "hash": "6d46af94c2bbce495f1e668725902fa517c90b1782bcfe2fce0dd9868df553d3"
    }
  },
  "cells": [
    {
      "cell_type": "code",
      "execution_count": 1,
      "source": [
        "!apt-get update > /dev/null\r\n",
        "!pip install selenium > /dev/null\r\n",
        "!apt install chromium-chromedriver > /dev/null"
      ],
      "outputs": [
        {
          "output_type": "stream",
          "name": "stdout",
          "text": [
            "\n",
            "WARNING: apt does not have a stable CLI interface. Use with caution in scripts.\n",
            "\n"
          ]
        }
      ],
      "metadata": {
        "colab": {
          "base_uri": "https://localhost:8080/"
        },
        "id": "Jqc0aM4uA3PV",
        "outputId": "26d2de11-1ccd-4b0e-84e2-923026daddb5"
      }
    },
    {
      "cell_type": "code",
      "execution_count": 1,
      "source": [
        "from selenium import webdriver\r\n",
        "from bs4 import BeautifulSoup\r\n",
        "import time\r\n",
        "import pandas as pd"
      ],
      "outputs": [],
      "metadata": {
        "id": "7vHi-OViBu-t"
      }
    },
    {
      "cell_type": "code",
      "execution_count": 2,
      "source": [
        "options = webdriver.ChromeOptions()\r\n",
        "options.add_argument('--headless')   # 화면없이 실행\r\n",
        "options.add_argument('--no-sandbox')\r\n",
        "options.add_argument(\"--single-process\")\r\n",
        "options.add_argument(\"--disable-dev-shm-usage\")\r\n",
        "driver = webdriver.Chrome('chromedriver', options=options)"
      ],
      "outputs": [],
      "metadata": {
        "id": "4CP26IgpCdpl"
      }
    },
    {
      "cell_type": "code",
      "execution_count": 3,
      "source": [
        "url = 'https://youtube-rank.com/board/bbs/board.php?bo_table=youtube&page=1'\r\n",
        "driver.get(url)\r\n",
        "#time.sleep(2) # 파이썬 파일에서 이 작업을 안하면 에러 발생"
      ],
      "outputs": [],
      "metadata": {
        "id": "p2QLa7r1CvOz"
      }
    },
    {
      "cell_type": "code",
      "execution_count": 4,
      "source": [
        "#trs = driver.find_elements_by_tag_name('tr')\r\n",
        "\r\n",
        "trs = driver.find_elements_by_css_selector('.aos-init')\r\n",
        "len(trs)"
      ],
      "outputs": [
        {
          "output_type": "execute_result",
          "data": {
            "text/plain": [
              "100"
            ]
          },
          "metadata": {},
          "execution_count": 4
        }
      ],
      "metadata": {
        "colab": {
          "base_uri": "https://localhost:8080/"
        },
        "id": "S5a1aDgfDS5b",
        "outputId": "2ec07b37-a411-413f-8504-44646750d55a"
      }
    },
    {
      "cell_type": "code",
      "execution_count": 5,
      "source": [
        "html = driver.page_source\r\n",
        "soup = BeautifulSoup(html, 'html.parser')"
      ],
      "outputs": [],
      "metadata": {
        "id": "AEdBjHsiDksH"
      }
    },
    {
      "cell_type": "code",
      "execution_count": 7,
      "source": [
        "#soup.lelect('from > table > tbody > tr')\r\n",
        "channel_list = soup.select('.aos-init')\r\n",
        "len(channel_list)"
      ],
      "outputs": [
        {
          "output_type": "execute_result",
          "data": {
            "text/plain": [
              "100"
            ]
          },
          "metadata": {},
          "execution_count": 7
        }
      ],
      "metadata": {
        "colab": {
          "base_uri": "https://localhost:8080/"
        },
        "id": "6147jkiMEVfD",
        "outputId": "10a23611-9fd1-4b53-def1-3976c870374a"
      }
    },
    {
      "cell_type": "code",
      "execution_count": 8,
      "source": [
        "channel = channel_list[0]\r\n",
        "category = channel.select_one('p.category').get_text().strip('\\n[]')\r\n",
        "category"
      ],
      "outputs": [
        {
          "output_type": "execute_result",
          "data": {
            "text/plain": [
              "'음악/댄스/가수]\\n                                \\n                                '"
            ]
          },
          "metadata": {},
          "execution_count": 8
        }
      ],
      "metadata": {
        "colab": {
          "base_uri": "https://localhost:8080/",
          "height": 36
        },
        "id": "s5N1JQKUFKH0",
        "outputId": "6b2b0331-d61a-4cb5-e968-8dee9d9d23e8"
      }
    },
    {
      "cell_type": "code",
      "execution_count": 9,
      "source": [
        "name = channel.select_one('.subject a').text.strip()\r\n",
        "name"
      ],
      "outputs": [
        {
          "output_type": "execute_result",
          "data": {
            "text/plain": [
              "'BLACKPINK'"
            ]
          },
          "metadata": {},
          "execution_count": 9
        }
      ],
      "metadata": {
        "colab": {
          "base_uri": "https://localhost:8080/",
          "height": 36
        },
        "id": "HorOUMIXFX2k",
        "outputId": "3324f9d5-94ea-49e7-b291-d956e9969e31"
      }
    },
    {
      "cell_type": "code",
      "execution_count": 10,
      "source": [
        "subscriber = channel.select_one('.subscriber_cnt').text\r\n",
        "view = channel.select_one('.view_cnt').text\r\n",
        "video = channel.select_one('.video_cnt').text[:-1]\r\n",
        "\r\n",
        "subscriber, view, video\r\n"
      ],
      "outputs": [
        {
          "output_type": "execute_result",
          "data": {
            "text/plain": [
              "('6400만', '190억0381만', '371')"
            ]
          },
          "metadata": {},
          "execution_count": 10
        }
      ],
      "metadata": {
        "colab": {
          "base_uri": "https://localhost:8080/"
        },
        "id": "xxXtM8j8Fmjj",
        "outputId": "0adab782-3c37-4b18-efa6-d59ff7a624f3"
      }
    },
    {
      "cell_type": "code",
      "execution_count": 11,
      "source": [
        "channels = []\r\n",
        "for channel in channel_list:\r\n",
        "    category = channel.select_one('p.category').get_text().strip(' \\n[]')\r\n",
        "    name = channel.select_one('.subject a').text.strip()\r\n",
        "    subscriber = channel.select_one('.subscriber_cnt').text\r\n",
        "    view = channel.select_one('.view_cnt').text\r\n",
        "    video = channel.select_one('.video_cnt').text[:-1]\r\n",
        "    channels.append([category, name, subscriber, view, video])\r\n"
      ],
      "outputs": [],
      "metadata": {
        "id": "8jxlnmv8GYh0"
      }
    },
    {
      "cell_type": "code",
      "execution_count": 12,
      "source": [
        "df = pd.DataFrame(channels, columns = ['카테고리', '채널명','구독자수','조회수', '비디오수'])\r\n",
        "df.head()"
      ],
      "outputs": [
        {
          "output_type": "execute_result",
          "data": {
            "text/plain": [
              "       카테고리                          채널명   구독자수        조회수   비디오수\n",
              "0  음악/댄스/가수                    BLACKPINK  6400만  190억0381만    371\n",
              "1  음악/댄스/가수                  HYBE LABELS  6030만  187억1305만    654\n",
              "2  음악/댄스/가수                    BANGTANTV  5640만  121억9496만  1,579\n",
              "3  음악/댄스/가수                       SMTOWN  2850만  218억7092만  3,729\n",
              "4    키즈/어린이  Boram Tube Vlog [보람튜브 브이로그]  2650만  110억5288만    223"
            ],
            "text/html": [
              "<div>\n",
              "<style scoped>\n",
              "    .dataframe tbody tr th:only-of-type {\n",
              "        vertical-align: middle;\n",
              "    }\n",
              "\n",
              "    .dataframe tbody tr th {\n",
              "        vertical-align: top;\n",
              "    }\n",
              "\n",
              "    .dataframe thead th {\n",
              "        text-align: right;\n",
              "    }\n",
              "</style>\n",
              "<table border=\"1\" class=\"dataframe\">\n",
              "  <thead>\n",
              "    <tr style=\"text-align: right;\">\n",
              "      <th></th>\n",
              "      <th>카테고리</th>\n",
              "      <th>채널명</th>\n",
              "      <th>구독자수</th>\n",
              "      <th>조회수</th>\n",
              "      <th>비디오수</th>\n",
              "    </tr>\n",
              "  </thead>\n",
              "  <tbody>\n",
              "    <tr>\n",
              "      <th>0</th>\n",
              "      <td>음악/댄스/가수</td>\n",
              "      <td>BLACKPINK</td>\n",
              "      <td>6400만</td>\n",
              "      <td>190억0381만</td>\n",
              "      <td>371</td>\n",
              "    </tr>\n",
              "    <tr>\n",
              "      <th>1</th>\n",
              "      <td>음악/댄스/가수</td>\n",
              "      <td>HYBE LABELS</td>\n",
              "      <td>6030만</td>\n",
              "      <td>187억1305만</td>\n",
              "      <td>654</td>\n",
              "    </tr>\n",
              "    <tr>\n",
              "      <th>2</th>\n",
              "      <td>음악/댄스/가수</td>\n",
              "      <td>BANGTANTV</td>\n",
              "      <td>5640만</td>\n",
              "      <td>121억9496만</td>\n",
              "      <td>1,579</td>\n",
              "    </tr>\n",
              "    <tr>\n",
              "      <th>3</th>\n",
              "      <td>음악/댄스/가수</td>\n",
              "      <td>SMTOWN</td>\n",
              "      <td>2850만</td>\n",
              "      <td>218억7092만</td>\n",
              "      <td>3,729</td>\n",
              "    </tr>\n",
              "    <tr>\n",
              "      <th>4</th>\n",
              "      <td>키즈/어린이</td>\n",
              "      <td>Boram Tube Vlog [보람튜브 브이로그]</td>\n",
              "      <td>2650만</td>\n",
              "      <td>110억5288만</td>\n",
              "      <td>223</td>\n",
              "    </tr>\n",
              "  </tbody>\n",
              "</table>\n",
              "</div>"
            ]
          },
          "metadata": {},
          "execution_count": 12
        }
      ],
      "metadata": {
        "colab": {
          "base_uri": "https://localhost:8080/",
          "height": 205
        },
        "id": "yY_CH_78IMez",
        "outputId": "44f5d602-787c-4376-f49d-2b0c4ea683bb"
      }
    },
    {
      "cell_type": "code",
      "execution_count": 13,
      "source": [
        "df.tail()"
      ],
      "outputs": [
        {
          "output_type": "execute_result",
          "data": {
            "text/plain": [
              "         카테고리                    채널명  구독자수       조회수   비디오수\n",
              "95  음식/요리/레시피           까니짱 [ G-NI ]  408만  10억3471만    482\n",
              "96     키즈/어린이  로미유 스토리[Romiyu Story]  408만  10억6557만    433\n",
              "97   음악/댄스/가수              NCT DREAM  386만   3억7422만    228\n",
              "98  BJ/인물/연예인               허팝Heopop  381만  31억3892만  1,847\n",
              "99     취미/라이프        JaeYeol ASMR 재열  380만  10억1154만    970"
            ],
            "text/html": [
              "<div>\n",
              "<style scoped>\n",
              "    .dataframe tbody tr th:only-of-type {\n",
              "        vertical-align: middle;\n",
              "    }\n",
              "\n",
              "    .dataframe tbody tr th {\n",
              "        vertical-align: top;\n",
              "    }\n",
              "\n",
              "    .dataframe thead th {\n",
              "        text-align: right;\n",
              "    }\n",
              "</style>\n",
              "<table border=\"1\" class=\"dataframe\">\n",
              "  <thead>\n",
              "    <tr style=\"text-align: right;\">\n",
              "      <th></th>\n",
              "      <th>카테고리</th>\n",
              "      <th>채널명</th>\n",
              "      <th>구독자수</th>\n",
              "      <th>조회수</th>\n",
              "      <th>비디오수</th>\n",
              "    </tr>\n",
              "  </thead>\n",
              "  <tbody>\n",
              "    <tr>\n",
              "      <th>95</th>\n",
              "      <td>음식/요리/레시피</td>\n",
              "      <td>까니짱 [ G-NI ]</td>\n",
              "      <td>408만</td>\n",
              "      <td>10억3471만</td>\n",
              "      <td>482</td>\n",
              "    </tr>\n",
              "    <tr>\n",
              "      <th>96</th>\n",
              "      <td>키즈/어린이</td>\n",
              "      <td>로미유 스토리[Romiyu Story]</td>\n",
              "      <td>408만</td>\n",
              "      <td>10억6557만</td>\n",
              "      <td>433</td>\n",
              "    </tr>\n",
              "    <tr>\n",
              "      <th>97</th>\n",
              "      <td>음악/댄스/가수</td>\n",
              "      <td>NCT DREAM</td>\n",
              "      <td>386만</td>\n",
              "      <td>3억7422만</td>\n",
              "      <td>228</td>\n",
              "    </tr>\n",
              "    <tr>\n",
              "      <th>98</th>\n",
              "      <td>BJ/인물/연예인</td>\n",
              "      <td>허팝Heopop</td>\n",
              "      <td>381만</td>\n",
              "      <td>31억3892만</td>\n",
              "      <td>1,847</td>\n",
              "    </tr>\n",
              "    <tr>\n",
              "      <th>99</th>\n",
              "      <td>취미/라이프</td>\n",
              "      <td>JaeYeol ASMR 재열</td>\n",
              "      <td>380만</td>\n",
              "      <td>10억1154만</td>\n",
              "      <td>970</td>\n",
              "    </tr>\n",
              "  </tbody>\n",
              "</table>\n",
              "</div>"
            ]
          },
          "metadata": {},
          "execution_count": 13
        }
      ],
      "metadata": {
        "colab": {
          "base_uri": "https://localhost:8080/",
          "height": 205
        },
        "id": "4fxMP2fnIadn",
        "outputId": "689342a8-4f52-4113-e425-47eb988f9aff"
      }
    },
    {
      "cell_type": "markdown",
      "source": [
        "- 만과 억을 숫자로 바꿔주는 함수"
      ],
      "metadata": {
        "id": "XYDlRItDI028"
      }
    },
    {
      "cell_type": "code",
      "execution_count": 15,
      "source": [
        "def convert_unit_2(s):\r\n",
        "    #억 은 지우고 만은 0000을붙인다.\r\n",
        "    s = ''.join(s.split('억'))\r\n",
        "    s=s.replace('만','0000')\r\n",
        "    return s"
      ],
      "outputs": [],
      "metadata": {
        "id": "MirXd4mFJBkB"
      }
    },
    {
      "cell_type": "code",
      "execution_count": 17,
      "source": [
        "def convert_unit(s):\r\n",
        "    #s = ''.join(s.split('억'))\r\n",
        "    s = s.replace('억', '').replace('개','').replace(',','')\r\n",
        "    s = s.replace('만', '0000')\r\n",
        "    return f'{int(s):,d}'"
      ],
      "outputs": [],
      "metadata": {
        "id": "dQI12YVqbbKJ"
      }
    },
    {
      "cell_type": "code",
      "execution_count": 18,
      "source": [
        "\r\n",
        "convert_unit('10억6557만')"
      ],
      "outputs": [
        {
          "output_type": "execute_result",
          "data": {
            "text/plain": [
              "'1,065,570,000'"
            ]
          },
          "metadata": {},
          "execution_count": 18
        }
      ],
      "metadata": {
        "colab": {
          "base_uri": "https://localhost:8080/",
          "height": 36
        },
        "id": "10KfqBH5KGhD",
        "outputId": "832ce98d-faa7-4e22-b012-99664b9a5023"
      }
    },
    {
      "cell_type": "code",
      "execution_count": null,
      "source": [
        "#두번쨰 페이지"
      ],
      "outputs": [],
      "metadata": {
        "id": "3muzodK3dEPJ"
      }
    },
    {
      "cell_type": "code",
      "execution_count": 37,
      "source": [
        "driver.find_element_by_xpath('//*[@id=\"list-skin\"]/nav/span/a[2]').click()"
      ],
      "outputs": [],
      "metadata": {
        "id": "vnkzORtRbaX5"
      }
    },
    {
      "cell_type": "code",
      "execution_count": 39,
      "source": [
        "html = driver.page_source\r\n",
        "soup  = BeautifulSoup(html, 'html.parser')"
      ],
      "outputs": [],
      "metadata": {
        "id": "JUEykJqQdhah"
      }
    },
    {
      "cell_type": "code",
      "execution_count": 40,
      "source": [
        "channel_list= soup.select('.aos-init')\r\n",
        "len(channel_list)"
      ],
      "outputs": [
        {
          "output_type": "execute_result",
          "data": {
            "text/plain": [
              "100"
            ]
          },
          "metadata": {
            "tags": []
          },
          "execution_count": 40
        }
      ],
      "metadata": {
        "colab": {
          "base_uri": "https://localhost:8080/"
        },
        "id": "oKPllwEIKKBn",
        "outputId": "670ccd15-327c-46d3-9e4f-c4e313ab0f15"
      }
    },
    {
      "cell_type": "code",
      "execution_count": 41,
      "source": [
        "results = []\r\n",
        "for channel in channel_list:\r\n",
        "    category = channel.select_one('p.category').get_text().strip(' \\n[]')\r\n",
        "    name = channel.select_one('.subject a').text.strip()\r\n",
        "    subscriber = channel.select_one('.subscriber_cnt').text\r\n",
        "    view = channel.select_one('.view_cnt').text\r\n",
        "    video = channel.select_one('.video_cnt').text[:-1]\r\n",
        "    channels.append([category, name, subscriber, view, video])"
      ],
      "outputs": [],
      "metadata": {
        "id": "TfxM4S3meufR"
      }
    },
    {
      "cell_type": "code",
      "execution_count": null,
      "source": [],
      "outputs": [],
      "metadata": {
        "id": "zmeaMWfMfCXZ"
      }
    },
    {
      "cell_type": "code",
      "execution_count": 42,
      "source": [
        "df = pd.DataFrame(channels, columns = ['카테고리', '채널명','구독자수','조회수', '비디오수'])\r\n",
        "df.head()"
      ],
      "outputs": [
        {
          "output_type": "execute_result",
          "data": {
            "text/plain": [
              "       카테고리                          채널명   구독자수        조회수   비디오수\n",
              "0  음악/댄스/가수                    BLACKPINK  6400만  190억0381만    371\n",
              "1  음악/댄스/가수                  HYBE LABELS  6030만  187억1305만    654\n",
              "2  음악/댄스/가수                    BANGTANTV  5640만  121억9496만  1,579\n",
              "3  음악/댄스/가수                       SMTOWN  2850만  218억7092만  3,729\n",
              "4    키즈/어린이  Boram Tube Vlog [보람튜브 브이로그]  2650만  110억5288만    223"
            ],
            "text/html": [
              "<div>\n",
              "<style scoped>\n",
              "    .dataframe tbody tr th:only-of-type {\n",
              "        vertical-align: middle;\n",
              "    }\n",
              "\n",
              "    .dataframe tbody tr th {\n",
              "        vertical-align: top;\n",
              "    }\n",
              "\n",
              "    .dataframe thead th {\n",
              "        text-align: right;\n",
              "    }\n",
              "</style>\n",
              "<table border=\"1\" class=\"dataframe\">\n",
              "  <thead>\n",
              "    <tr style=\"text-align: right;\">\n",
              "      <th></th>\n",
              "      <th>카테고리</th>\n",
              "      <th>채널명</th>\n",
              "      <th>구독자수</th>\n",
              "      <th>조회수</th>\n",
              "      <th>비디오수</th>\n",
              "    </tr>\n",
              "  </thead>\n",
              "  <tbody>\n",
              "    <tr>\n",
              "      <th>0</th>\n",
              "      <td>음악/댄스/가수</td>\n",
              "      <td>BLACKPINK</td>\n",
              "      <td>6400만</td>\n",
              "      <td>190억0381만</td>\n",
              "      <td>371</td>\n",
              "    </tr>\n",
              "    <tr>\n",
              "      <th>1</th>\n",
              "      <td>음악/댄스/가수</td>\n",
              "      <td>HYBE LABELS</td>\n",
              "      <td>6030만</td>\n",
              "      <td>187억1305만</td>\n",
              "      <td>654</td>\n",
              "    </tr>\n",
              "    <tr>\n",
              "      <th>2</th>\n",
              "      <td>음악/댄스/가수</td>\n",
              "      <td>BANGTANTV</td>\n",
              "      <td>5640만</td>\n",
              "      <td>121억9496만</td>\n",
              "      <td>1,579</td>\n",
              "    </tr>\n",
              "    <tr>\n",
              "      <th>3</th>\n",
              "      <td>음악/댄스/가수</td>\n",
              "      <td>SMTOWN</td>\n",
              "      <td>2850만</td>\n",
              "      <td>218억7092만</td>\n",
              "      <td>3,729</td>\n",
              "    </tr>\n",
              "    <tr>\n",
              "      <th>4</th>\n",
              "      <td>키즈/어린이</td>\n",
              "      <td>Boram Tube Vlog [보람튜브 브이로그]</td>\n",
              "      <td>2650만</td>\n",
              "      <td>110억5288만</td>\n",
              "      <td>223</td>\n",
              "    </tr>\n",
              "  </tbody>\n",
              "</table>\n",
              "</div>"
            ]
          },
          "metadata": {
            "tags": []
          },
          "execution_count": 42
        }
      ],
      "metadata": {
        "colab": {
          "base_uri": "https://localhost:8080/",
          "height": 205
        },
        "id": "4lHD6o_yfCqj",
        "outputId": "76ef71de-180b-4183-ffab-a3de800f76fe"
      }
    },
    {
      "cell_type": "code",
      "execution_count": 19,
      "source": [
        "## page 1에서 10까지 크롤링하기"
      ],
      "outputs": [],
      "metadata": {}
    },
    {
      "cell_type": "code",
      "execution_count": 20,
      "source": [
        "results = []\r\n",
        "for page in range(1,11):\r\n",
        "    url = 'https://youtube-rank.com/board/bbs/board.php?bo_table=youtube&page='+str(page)\r\n",
        "    driver.get(url)\r\n",
        "    time.sleep(3) # 중요, 충분한 로딩 시간 확보, 안할시 에러 발생\r\n",
        "    html = driver.page_source\r\n",
        "    soup  = BeautifulSoup(html, 'html.parser')\r\n",
        "    channel_list= soup.select('.aos-init')\r\n",
        "\r\n",
        "    for channel in channel_list:\r\n",
        "        category = channel.select_one('p.category').get_text().strip(' \\n[]')\r\n",
        "        name = channel.select_one('.subject a').text.strip()\r\n",
        "        subscriber = channel.select_one('.subscriber_cnt').text\r\n",
        "        view = channel.select_one('.view_cnt').text\r\n",
        "        video = channel.select_one('.video_cnt').text[:-1]\r\n",
        "        results.append([category, name, subscriber, view, video])"
      ],
      "outputs": [],
      "metadata": {
        "id": "kxUzApsefGzx"
      }
    },
    {
      "cell_type": "code",
      "execution_count": 13,
      "source": [
        "df = pd.DataFrame(results, columns = ['카테고리', '채널명','구독자수','조회수', '비디오수'])\r\n",
        "df.head()"
      ],
      "outputs": [
        {
          "output_type": "execute_result",
          "data": {
            "text/plain": [
              "       카테고리                          채널명   구독자수        조회수   비디오수\n",
              "0  음악/댄스/가수                    BLACKPINK  6400만  190억0381만    371\n",
              "1  음악/댄스/가수                  HYBE LABELS  6030만  187억1305만    654\n",
              "2  음악/댄스/가수                    BANGTANTV  5640만  121억9496만  1,579\n",
              "3  음악/댄스/가수                       SMTOWN  2850만  218억7092만  3,729\n",
              "4    키즈/어린이  Boram Tube Vlog [보람튜브 브이로그]  2650만  110억5288만    223"
            ],
            "text/html": [
              "<div>\n",
              "<style scoped>\n",
              "    .dataframe tbody tr th:only-of-type {\n",
              "        vertical-align: middle;\n",
              "    }\n",
              "\n",
              "    .dataframe tbody tr th {\n",
              "        vertical-align: top;\n",
              "    }\n",
              "\n",
              "    .dataframe thead th {\n",
              "        text-align: right;\n",
              "    }\n",
              "</style>\n",
              "<table border=\"1\" class=\"dataframe\">\n",
              "  <thead>\n",
              "    <tr style=\"text-align: right;\">\n",
              "      <th></th>\n",
              "      <th>카테고리</th>\n",
              "      <th>채널명</th>\n",
              "      <th>구독자수</th>\n",
              "      <th>조회수</th>\n",
              "      <th>비디오수</th>\n",
              "    </tr>\n",
              "  </thead>\n",
              "  <tbody>\n",
              "    <tr>\n",
              "      <th>0</th>\n",
              "      <td>음악/댄스/가수</td>\n",
              "      <td>BLACKPINK</td>\n",
              "      <td>6400만</td>\n",
              "      <td>190억0381만</td>\n",
              "      <td>371</td>\n",
              "    </tr>\n",
              "    <tr>\n",
              "      <th>1</th>\n",
              "      <td>음악/댄스/가수</td>\n",
              "      <td>HYBE LABELS</td>\n",
              "      <td>6030만</td>\n",
              "      <td>187억1305만</td>\n",
              "      <td>654</td>\n",
              "    </tr>\n",
              "    <tr>\n",
              "      <th>2</th>\n",
              "      <td>음악/댄스/가수</td>\n",
              "      <td>BANGTANTV</td>\n",
              "      <td>5640만</td>\n",
              "      <td>121억9496만</td>\n",
              "      <td>1,579</td>\n",
              "    </tr>\n",
              "    <tr>\n",
              "      <th>3</th>\n",
              "      <td>음악/댄스/가수</td>\n",
              "      <td>SMTOWN</td>\n",
              "      <td>2850만</td>\n",
              "      <td>218억7092만</td>\n",
              "      <td>3,729</td>\n",
              "    </tr>\n",
              "    <tr>\n",
              "      <th>4</th>\n",
              "      <td>키즈/어린이</td>\n",
              "      <td>Boram Tube Vlog [보람튜브 브이로그]</td>\n",
              "      <td>2650만</td>\n",
              "      <td>110억5288만</td>\n",
              "      <td>223</td>\n",
              "    </tr>\n",
              "  </tbody>\n",
              "</table>\n",
              "</div>"
            ]
          },
          "metadata": {
            "tags": []
          },
          "execution_count": 13
        }
      ],
      "metadata": {
        "colab": {
          "base_uri": "https://localhost:8080/",
          "height": 205
        },
        "id": "gbzUwLSIgMza",
        "outputId": "4d4a98c3-a76a-41b8-9bce-3fd86771234e"
      }
    },
    {
      "cell_type": "code",
      "execution_count": 14,
      "source": [
        "df.tail()\r\n"
      ],
      "outputs": [
        {
          "output_type": "execute_result",
          "data": {
            "text/plain": [
              "          카테고리                      채널명 구독자수      조회수   비디오수\n",
              "995         게임                       미소  51만  2억1077만  3,084\n",
              "996        미분류                밉지않은 관종언니  51만    6774만    170\n",
              "997        미분류  복지마블TV [Welfare Marble]  51만    4996만    240\n",
              "998  음식/요리/레시피                    Muggo  51만  1억8372만  1,388\n",
              "999         게임                      임선비  51만  2억3429만  1,134"
            ],
            "text/html": [
              "<div>\n",
              "<style scoped>\n",
              "    .dataframe tbody tr th:only-of-type {\n",
              "        vertical-align: middle;\n",
              "    }\n",
              "\n",
              "    .dataframe tbody tr th {\n",
              "        vertical-align: top;\n",
              "    }\n",
              "\n",
              "    .dataframe thead th {\n",
              "        text-align: right;\n",
              "    }\n",
              "</style>\n",
              "<table border=\"1\" class=\"dataframe\">\n",
              "  <thead>\n",
              "    <tr style=\"text-align: right;\">\n",
              "      <th></th>\n",
              "      <th>카테고리</th>\n",
              "      <th>채널명</th>\n",
              "      <th>구독자수</th>\n",
              "      <th>조회수</th>\n",
              "      <th>비디오수</th>\n",
              "    </tr>\n",
              "  </thead>\n",
              "  <tbody>\n",
              "    <tr>\n",
              "      <th>995</th>\n",
              "      <td>게임</td>\n",
              "      <td>미소</td>\n",
              "      <td>51만</td>\n",
              "      <td>2억1077만</td>\n",
              "      <td>3,084</td>\n",
              "    </tr>\n",
              "    <tr>\n",
              "      <th>996</th>\n",
              "      <td>미분류</td>\n",
              "      <td>밉지않은 관종언니</td>\n",
              "      <td>51만</td>\n",
              "      <td>6774만</td>\n",
              "      <td>170</td>\n",
              "    </tr>\n",
              "    <tr>\n",
              "      <th>997</th>\n",
              "      <td>미분류</td>\n",
              "      <td>복지마블TV [Welfare Marble]</td>\n",
              "      <td>51만</td>\n",
              "      <td>4996만</td>\n",
              "      <td>240</td>\n",
              "    </tr>\n",
              "    <tr>\n",
              "      <th>998</th>\n",
              "      <td>음식/요리/레시피</td>\n",
              "      <td>Muggo</td>\n",
              "      <td>51만</td>\n",
              "      <td>1억8372만</td>\n",
              "      <td>1,388</td>\n",
              "    </tr>\n",
              "    <tr>\n",
              "      <th>999</th>\n",
              "      <td>게임</td>\n",
              "      <td>임선비</td>\n",
              "      <td>51만</td>\n",
              "      <td>2억3429만</td>\n",
              "      <td>1,134</td>\n",
              "    </tr>\n",
              "  </tbody>\n",
              "</table>\n",
              "</div>"
            ]
          },
          "metadata": {
            "tags": []
          },
          "execution_count": 14
        }
      ],
      "metadata": {
        "colab": {
          "base_uri": "https://localhost:8080/",
          "height": 205
        },
        "id": "3msvhr-WgbvC",
        "outputId": "86207c47-e3bf-47c7-e31c-0b4e170a5b59"
      }
    },
    {
      "cell_type": "code",
      "execution_count": 15,
      "source": [
        "df.to_csv('유튜브_순위.csv')"
      ],
      "outputs": [],
      "metadata": {
        "id": "7VFTaNPMgeRa"
      }
    },
    {
      "cell_type": "code",
      "execution_count": 16,
      "source": [
        "driver.close()"
      ],
      "outputs": [],
      "metadata": {
        "id": "KfM4yoXchA_L"
      }
    },
    {
      "cell_type": "code",
      "execution_count": null,
      "source": [],
      "outputs": [],
      "metadata": {
        "id": "9CrdiU4MhaHa"
      }
    }
  ]
}