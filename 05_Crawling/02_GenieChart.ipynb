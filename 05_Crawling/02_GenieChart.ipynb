{
  "nbformat": 4,
  "nbformat_minor": 2,
  "metadata": {
    "colab": {
      "name": "02_GenieChart.ipynb",
      "provenance": [],
      "collapsed_sections": []
    },
    "kernelspec": {
      "name": "python3",
      "display_name": "Python 3.8.10 64-bit ('base': conda)"
    },
    "language_info": {
      "name": "python",
      "version": "3.8.10",
      "mimetype": "text/x-python",
      "codemirror_mode": {
        "name": "ipython",
        "version": 3
      },
      "pygments_lexer": "ipython3",
      "nbconvert_exporter": "python",
      "file_extension": ".py"
    },
    "interpreter": {
      "hash": "6d46af94c2bbce495f1e668725902fa517c90b1782bcfe2fce0dd9868df553d3"
    }
  },
  "cells": [
    {
      "cell_type": "markdown",
      "source": [
        "# Genie Top200 Chart 가져오기"
      ],
      "metadata": {
        "id": "kHyEoTkzasc_"
      }
    },
    {
      "cell_type": "code",
      "execution_count": null,
      "source": [],
      "outputs": [],
      "metadata": {
        "id": "KuWrMahUfOac"
      }
    },
    {
      "cell_type": "code",
      "execution_count": 3,
      "source": [
        "import requests\r\n",
        "import pandas as pd\r\n"
      ],
      "outputs": [],
      "metadata": {
        "id": "dK_KNwkIa2zD"
      }
    },
    {
      "cell_type": "markdown",
      "source": [
        "## 1. 인터넷 상에서 데이터 가져오기"
      ],
      "metadata": {
        "id": "oAXoWiZ0feiT"
      }
    },
    {
      "cell_type": "code",
      "execution_count": 3,
      "source": [
        "# Genie Top200\r\n",
        "url = 'https://www.genie.co.kr/chart/top200'\r\n",
        "req = requests.get(url)\r\n",
        "html = req.text\r\n",
        "html"
      ],
      "outputs": [
        {
          "output_type": "execute_result",
          "data": {
            "text/plain": [
              "'<br>\\r\\n<br>\\r\\n<center>\\r\\n<img src=\"http://www.geniemusic.co.kr/images/common/logo_r1.png\"><br>\\r\\n<h2> <meta http-equiv=\"Content-Type\" content=\"text/html;charset=UTF-8\"> ì\\xa0\\x91ì\\x86\\x8dì\\x9a\\x94ì²\\xadì\\x9d´ ë³´ì\\x95\\x88ì\\xa0\\x95ì±\\x85ì\\x97\\x90 ì\\x9d\\x98í\\x95´ ì°¨ë\\x8b¨ë\\x90\\x98ì\\x97\\x88ì\\x8aµë\\x8b\\x88ë\\x8b¤. ë\\x8b¹ì\\x82¬ ê³\\xa0ê°\\x9dì\\x84¼í\\x84°ë¡\\x9c ë¬¸ì\\x9d\\x98í\\x95´ì£¼ì\\x8b\\xadì\\x8b\\x9cì\\x98¤.<br><br>\\r\\nThe security policy of the connection request is blocked. Contact your customer service representative.<br><br>\\r\\nì§\\x80ë\\x8b\\x88ë®¤ì§\\x81 ê³\\xa0ê°\\x9dì\\x84¼í\\x84° 1577-5337<br><br>\\r\\n</h2>\\r\\n</center>\\r\\n<br>'"
            ],
            "application/vnd.google.colaboratory.intrinsic+json": {
              "type": "string"
            }
          },
          "metadata": {
            "tags": []
          },
          "execution_count": 3
        }
      ],
      "metadata": {
        "colab": {
          "base_uri": "https://localhost:8080/",
          "height": 132
        },
        "id": "KXxV2_fSbILT",
        "outputId": "5e8492eb-7f5b-4e18-becf-c292355c3337"
      }
    },
    {
      "cell_type": "code",
      "execution_count": 6,
      "source": [
        "# Chrome User-Agent\r\n",
        "# https://developer.mozilla.org/en-US/docs/Web/HTTP/Headers/User-Agent\r\n",
        "header = {'User-Agent' :\r\n",
        "          'Mozilla/5.0 (X11; Linux x86_64) AppleWebKit/537.36 (KHTML, like Gecko) Chrome/51.0.2704.103 Safari/537.36'\r\n",
        "          }\r\n",
        "req = requests.get(url, headers = header)\r\n",
        "html = req.text\r\n"
      ],
      "outputs": [],
      "metadata": {
        "colab": {
          "base_uri": "https://localhost:8080/",
          "height": 189
        },
        "id": "O7ISQf62bdTr",
        "outputId": "02e1171a-7f9a-4384-c6b2-2937c9d49d54"
      }
    },
    {
      "cell_type": "code",
      "execution_count": 7,
      "source": [
        "from bs4 import BeautifulSoup\r\n",
        "\r\n",
        "soup = BeautifulSoup(html, 'html.parser')"
      ],
      "outputs": [],
      "metadata": {
        "id": "eI4Hae0rcdl0"
      }
    },
    {
      "cell_type": "code",
      "execution_count": null,
      "source": [],
      "outputs": [],
      "metadata": {
        "id": "axo1WD-BfdGs"
      }
    },
    {
      "cell_type": "markdown",
      "source": [
        "## 2. 찾을 데이터의 태그 찾기\n",
        "\n"
      ],
      "metadata": {
        "id": "5ldwby51fWSS"
      }
    },
    {
      "cell_type": "code",
      "execution_count": 8,
      "source": [
        "# <table class ==\"list-wrap\">\r\n",
        "# 목표태그까지 상위태그로 단계로 거쳐가는것이 좋다.\r\n",
        "# table.list-wrap -> tr\r\n",
        "table = soup.select_one('table.list-wrap')\r\n",
        "trs = table.select('tr.list')\r\n",
        "len(trs)"
      ],
      "outputs": [
        {
          "output_type": "execute_result",
          "data": {
            "text/plain": [
              "50"
            ]
          },
          "metadata": {},
          "execution_count": 8
        }
      ],
      "metadata": {
        "colab": {
          "base_uri": "https://localhost:8080/"
        },
        "id": "UxmHtnYtf-Th",
        "outputId": "66584f40-e826-4262-ca71-d55b153ad59e"
      }
    },
    {
      "cell_type": "code",
      "execution_count": 10,
      "source": [
        "\r\n"
      ],
      "outputs": [],
      "metadata": {
        "id": "WGEvX2Jkgtk9"
      }
    },
    {
      "cell_type": "markdown",
      "source": [
        "## 3. 여러 데이터중 하나를 선택하여 원하는 정보 추출"
      ],
      "metadata": {
        "id": "y-tsTEsvhdN5"
      }
    },
    {
      "cell_type": "code",
      "execution_count": 20,
      "source": [
        "# rank, title, artist, album 추출\r\n",
        "tr =trs[0]\r\n",
        "tr.select_one('.number').get_text()"
      ],
      "outputs": [
        {
          "output_type": "execute_result",
          "data": {
            "text/plain": [
              "'1\\n                                        \\n                                    \\n유지\\n\\n'"
            ],
            "application/vnd.google.colaboratory.intrinsic+json": {
              "type": "string"
            }
          },
          "metadata": {
            "tags": []
          },
          "execution_count": 20
        }
      ],
      "metadata": {
        "colab": {
          "base_uri": "https://localhost:8080/",
          "height": 36
        },
        "id": "Wi_zvfe8hhu1",
        "outputId": "01111d90-3bf6-4b37-8b70-8760537469f3"
      }
    },
    {
      "cell_type": "code",
      "execution_count": 21,
      "source": [
        "# 찾은 문잘열에서 원하는 정보만 추출하기 위한 소스코드 필요\r\n",
        "tr.select_one('.number').get_text().split('\\n')[0]"
      ],
      "outputs": [
        {
          "output_type": "execute_result",
          "data": {
            "text/plain": [
              "'1'"
            ],
            "application/vnd.google.colaboratory.intrinsic+json": {
              "type": "string"
            }
          },
          "metadata": {
            "tags": []
          },
          "execution_count": 21
        }
      ],
      "metadata": {
        "colab": {
          "base_uri": "https://localhost:8080/",
          "height": 36
        },
        "id": "hSdRPQu0iLU0",
        "outputId": "b6dacf72-fbd8-4bd0-ba14-97e4c085a2e2"
      }
    },
    {
      "cell_type": "code",
      "execution_count": 22,
      "source": [
        "rank=int(tr.select_one('.number').get_text().split('\\n')[0])\r\n",
        "rank\r\n",
        "\r\n"
      ],
      "outputs": [
        {
          "output_type": "execute_result",
          "data": {
            "text/plain": [
              "1"
            ]
          },
          "metadata": {
            "tags": []
          },
          "execution_count": 22
        }
      ],
      "metadata": {
        "colab": {
          "base_uri": "https://localhost:8080/"
        },
        "id": "NZsguqvSirus",
        "outputId": "5d981cfd-d0d2-46db-fad0-db7544de837d"
      }
    },
    {
      "cell_type": "code",
      "execution_count": 26,
      "source": [
        "# title\r\n",
        "tr.select_one('.info').select_one('.title').get_text()"
      ],
      "outputs": [
        {
          "output_type": "execute_result",
          "data": {
            "text/plain": [
              "'\\n                                        \\n                                            \\n                                        \\n                                        \\n                                        \\n                                        \\n                                            \\n                                                Queendom'"
            ],
            "application/vnd.google.colaboratory.intrinsic+json": {
              "type": "string"
            }
          },
          "metadata": {
            "tags": []
          },
          "execution_count": 26
        }
      ],
      "metadata": {
        "colab": {
          "base_uri": "https://localhost:8080/",
          "height": 75
        },
        "id": "B_w_ukywi8bM",
        "outputId": "0a1ec9da-7091-4a91-8e35-f7d36ab328de"
      }
    },
    {
      "cell_type": "code",
      "execution_count": 34,
      "source": [
        "title = tr.select_one('.info').select_one('.title').get_text().strip()\r\n",
        "title"
      ],
      "outputs": [
        {
          "output_type": "execute_result",
          "data": {
            "text/plain": [
              "'Queendom'"
            ],
            "application/vnd.google.colaboratory.intrinsic+json": {
              "type": "string"
            }
          },
          "metadata": {
            "tags": []
          },
          "execution_count": 34
        }
      ],
      "metadata": {
        "colab": {
          "base_uri": "https://localhost:8080/",
          "height": 36
        },
        "id": "a4o3jahOjop1",
        "outputId": "05827f86-7d1f-485d-9601-1c332e2ddb50"
      }
    },
    {
      "cell_type": "code",
      "execution_count": 38,
      "source": [
        "#artist\r\n",
        "tr.select_one('.info').select_one('.artist').get_text().strip()"
      ],
      "outputs": [
        {
          "output_type": "execute_result",
          "data": {
            "text/plain": [
              "'Red Velvet (레드벨벳)'"
            ],
            "application/vnd.google.colaboratory.intrinsic+json": {
              "type": "string"
            }
          },
          "metadata": {
            "tags": []
          },
          "execution_count": 38
        }
      ],
      "metadata": {
        "colab": {
          "base_uri": "https://localhost:8080/",
          "height": 36
        },
        "id": "3yZMJU-XjxRc",
        "outputId": "64e0220b-e3bd-41bc-f34a-b6f0b6c89369"
      }
    },
    {
      "cell_type": "code",
      "execution_count": 39,
      "source": [
        "artist = tr.select_one('.info').select_one('.artist').get_text().strip()\r\n",
        "artist"
      ],
      "outputs": [
        {
          "output_type": "execute_result",
          "data": {
            "text/plain": [
              "'Red Velvet (레드벨벳)'"
            ],
            "application/vnd.google.colaboratory.intrinsic+json": {
              "type": "string"
            }
          },
          "metadata": {
            "tags": []
          },
          "execution_count": 39
        }
      ],
      "metadata": {
        "colab": {
          "base_uri": "https://localhost:8080/",
          "height": 36
        },
        "id": "kp1PH59Uj-bU",
        "outputId": "9e992ecf-90f8-4123-c578-d2a001d3435b"
      }
    },
    {
      "cell_type": "code",
      "execution_count": 41,
      "source": [
        "# album\r\n",
        "album = tr.select_one('.info').select_one('.albumtitle').get_text().strip()\r\n",
        "album"
      ],
      "outputs": [
        {
          "output_type": "execute_result",
          "data": {
            "text/plain": [
              "'Queendom - The 6th Mini Album'"
            ],
            "application/vnd.google.colaboratory.intrinsic+json": {
              "type": "string"
            }
          },
          "metadata": {
            "tags": []
          },
          "execution_count": 41
        }
      ],
      "metadata": {
        "colab": {
          "base_uri": "https://localhost:8080/",
          "height": 36
        },
        "id": "sv1hqP4Rj-jV",
        "outputId": "97188841-eca2-42b7-9763-ec50aea5fe9a"
      }
    },
    {
      "cell_type": "markdown",
      "source": [
        "## 4. 한페이지에 있는 모든 데이터를 반복문으로 가져오기"
      ],
      "metadata": {
        "id": "Z_nx-KKij-ml"
      }
    },
    {
      "cell_type": "code",
      "execution_count": 43,
      "source": [
        "rank_list, title_list, artist_list, album_list = [], [], [] , []\r\n",
        "for tr in trs:\r\n",
        "    rank=int(tr.select_one('.number').get_text().split('\\n')[0])\r\n",
        "    title = tr.select_one('.info').select_one('.title').get_text().strip()\r\n",
        "    artist = tr.select_one('.info').select_one('.artist').get_text().strip()\r\n",
        "    album = tr.select_one('.info').select_one('.albumtitle').get_text().strip()\r\n",
        "\r\n",
        "    rank_list.append(rank)\r\n",
        "    title_list.append(title)\r\n",
        "    artist_list.append(artist)\r\n",
        "    album_list.append(album)"
      ],
      "outputs": [],
      "metadata": {
        "id": "COgEzooOj-pm"
      }
    },
    {
      "cell_type": "code",
      "execution_count": 45,
      "source": [
        "df = pd.DataFrame({\r\n",
        "    '순위':rank_list, '곡명': title_list,\r\n",
        "    '가수':artist_list, '앨범':album_list\r\n",
        "})\r\n",
        "df.tail()"
      ],
      "outputs": [
        {
          "output_type": "execute_result",
          "data": {
            "text/plain": [
              "    순위  ...                             앨범\n",
              "45  46  ...                      미워요 & 소나기\n",
              "46  47  ...                      Wanna Be＋\n",
              "47  48  ...                      사이렌 Remix\n",
              "48  49  ...                    The Prelude\n",
              "49  50  ...  최고의 사랑 OST Part.4 (MBC 수목드라마)\n",
              "\n",
              "[5 rows x 4 columns]"
            ],
            "text/html": [
              "<div>\n",
              "<style scoped>\n",
              "    .dataframe tbody tr th:only-of-type {\n",
              "        vertical-align: middle;\n",
              "    }\n",
              "\n",
              "    .dataframe tbody tr th {\n",
              "        vertical-align: top;\n",
              "    }\n",
              "\n",
              "    .dataframe thead th {\n",
              "        text-align: right;\n",
              "    }\n",
              "</style>\n",
              "<table border=\"1\" class=\"dataframe\">\n",
              "  <thead>\n",
              "    <tr style=\"text-align: right;\">\n",
              "      <th></th>\n",
              "      <th>순위</th>\n",
              "      <th>곡명</th>\n",
              "      <th>가수</th>\n",
              "      <th>앨범</th>\n",
              "    </tr>\n",
              "  </thead>\n",
              "  <tbody>\n",
              "    <tr>\n",
              "      <th>45</th>\n",
              "      <td>46</td>\n",
              "      <td>미워요</td>\n",
              "      <td>임영웅</td>\n",
              "      <td>미워요 &amp; 소나기</td>\n",
              "    </tr>\n",
              "    <tr>\n",
              "      <th>46</th>\n",
              "      <td>47</td>\n",
              "      <td>Timeless</td>\n",
              "      <td>SG워너비</td>\n",
              "      <td>Wanna Be＋</td>\n",
              "    </tr>\n",
              "    <tr>\n",
              "      <th>47</th>\n",
              "      <td>48</td>\n",
              "      <td>사이렌 Remix (Feat. UNEDUCATED KID &amp; Paul Blanco)</td>\n",
              "      <td>호미들</td>\n",
              "      <td>사이렌 Remix</td>\n",
              "    </tr>\n",
              "    <tr>\n",
              "      <th>48</th>\n",
              "      <td>49</td>\n",
              "      <td>At My Worst</td>\n",
              "      <td>Pink Sweat$</td>\n",
              "      <td>The Prelude</td>\n",
              "    </tr>\n",
              "    <tr>\n",
              "      <th>49</th>\n",
              "      <td>50</td>\n",
              "      <td>내 손을 잡아</td>\n",
              "      <td>아이유 (IU)</td>\n",
              "      <td>최고의 사랑 OST Part.4 (MBC 수목드라마)</td>\n",
              "    </tr>\n",
              "  </tbody>\n",
              "</table>\n",
              "</div>"
            ]
          },
          "metadata": {
            "tags": []
          },
          "execution_count": 45
        }
      ],
      "metadata": {
        "colab": {
          "base_uri": "https://localhost:8080/",
          "height": 205
        },
        "id": "OOKQZ3Owj-sD",
        "outputId": "a3e88809-8e10-44c5-c231-1dc6add28427"
      }
    },
    {
      "cell_type": "code",
      "execution_count": 25,
      "source": [],
      "outputs": [],
      "metadata": {
        "id": "aCzFJAXAj-uz"
      }
    },
    {
      "cell_type": "code",
      "execution_count": 47,
      "source": [
        "lines = []\r\n",
        "for tr in trs:\r\n",
        "    rank=int(tr.select_one('.number').get_text().split('\\n')[0])\r\n",
        "    title = tr.select_one('.info').select_one('.title').get_text().strip()\r\n",
        "    artist = tr.select_one('.info').select_one('.artist').get_text().strip()\r\n",
        "    album = tr.select_one('.info').select_one('.albumtitle').get_text().strip()\r\n",
        "    lines.append([rank, title, artist, album])    "
      ],
      "outputs": [],
      "metadata": {
        "id": "aUDzh1jgj-xT"
      }
    },
    {
      "cell_type": "code",
      "execution_count": 49,
      "source": [
        "df=pd.DataFrame(lines, columns =['순위','곡명','가수','앨범'])\r\n",
        "df.head()"
      ],
      "outputs": [
        {
          "output_type": "execute_result",
          "data": {
            "text/plain": [
              "   순위                   곡명                 가수                             앨범\n",
              "0   1             Queendom  Red Velvet (레드벨벳)  Queendom - The 6th Mini Album\n",
              "1   2                  신호등                이무진                            신호등\n",
              "2   3        낙하 (With 아이유)          AKMU (악뮤)                   NEXT EPISODE\n",
              "3   4               바라만 본다     MSG워너비 (M.O.M)                      MSG워너비 1집\n",
              "4   5  Permission to Dance              방탄소년단   Butter / Permission to Dance"
            ],
            "text/html": [
              "<div>\n",
              "<style scoped>\n",
              "    .dataframe tbody tr th:only-of-type {\n",
              "        vertical-align: middle;\n",
              "    }\n",
              "\n",
              "    .dataframe tbody tr th {\n",
              "        vertical-align: top;\n",
              "    }\n",
              "\n",
              "    .dataframe thead th {\n",
              "        text-align: right;\n",
              "    }\n",
              "</style>\n",
              "<table border=\"1\" class=\"dataframe\">\n",
              "  <thead>\n",
              "    <tr style=\"text-align: right;\">\n",
              "      <th></th>\n",
              "      <th>순위</th>\n",
              "      <th>곡명</th>\n",
              "      <th>가수</th>\n",
              "      <th>앨범</th>\n",
              "    </tr>\n",
              "  </thead>\n",
              "  <tbody>\n",
              "    <tr>\n",
              "      <th>0</th>\n",
              "      <td>1</td>\n",
              "      <td>Queendom</td>\n",
              "      <td>Red Velvet (레드벨벳)</td>\n",
              "      <td>Queendom - The 6th Mini Album</td>\n",
              "    </tr>\n",
              "    <tr>\n",
              "      <th>1</th>\n",
              "      <td>2</td>\n",
              "      <td>신호등</td>\n",
              "      <td>이무진</td>\n",
              "      <td>신호등</td>\n",
              "    </tr>\n",
              "    <tr>\n",
              "      <th>2</th>\n",
              "      <td>3</td>\n",
              "      <td>낙하 (With 아이유)</td>\n",
              "      <td>AKMU (악뮤)</td>\n",
              "      <td>NEXT EPISODE</td>\n",
              "    </tr>\n",
              "    <tr>\n",
              "      <th>3</th>\n",
              "      <td>4</td>\n",
              "      <td>바라만 본다</td>\n",
              "      <td>MSG워너비 (M.O.M)</td>\n",
              "      <td>MSG워너비 1집</td>\n",
              "    </tr>\n",
              "    <tr>\n",
              "      <th>4</th>\n",
              "      <td>5</td>\n",
              "      <td>Permission to Dance</td>\n",
              "      <td>방탄소년단</td>\n",
              "      <td>Butter / Permission to Dance</td>\n",
              "    </tr>\n",
              "  </tbody>\n",
              "</table>\n",
              "</div>"
            ]
          },
          "metadata": {
            "tags": []
          },
          "execution_count": 49
        }
      ],
      "metadata": {
        "colab": {
          "base_uri": "https://localhost:8080/",
          "height": 205
        },
        "id": "3tO2FFhwj-zj",
        "outputId": "f9e03b58-4432-477f-d0ef-53a164a84b00"
      }
    },
    {
      "cell_type": "markdown",
      "source": [
        "## 5 모든 페이지의 데이터 가져오기\n",
        "\n"
      ],
      "metadata": {
        "id": "rW_rEwpwj-2G"
      }
    },
    {
      "cell_type": "code",
      "execution_count": 4,
      "source": [
        "#https://www.genie.co.kr/chart/top200?ditc=D&ymd=20210817&hh=13&rtm=Y&pg=2\r\n",
        "from bs4 import BeautifulSoup\r\n",
        "\r\n",
        "rank_list, title_list, artist_list, album_list = [], [], [] , []\r\n",
        "sub = 'https://www.genie.co.kr/chart/top200?ditc=D&ymd=20210817&hh=13&rtm=Y&pg='\r\n",
        "for page in range(1,5):\r\n",
        "    url = f'{sub}{page}'\r\n",
        "    header = {'User-Agent' :\r\n",
        "          'Mozilla/5.0 (X11; Linux x86_64) AppleWebKit/537.36 (KHTML, like Gecko) Chrome/51.0.2704.103 Safari/537.36'\r\n",
        "          }\r\n",
        "    req = requests.get(url, headers = header)\r\n",
        "    html = req.text\r\n",
        "    soup = BeautifulSoup(html, 'html.parser')\r\n",
        "    table = soup.select_one('table.list-wrap')\r\n",
        "    trs = table.select('tr.list')\r\n",
        "    \r\n",
        "    for tr in trs:\r\n",
        "        rank=int(tr.select_one('.number').get_text().split('\\n')[0])\r\n",
        "        title = tr.select_one('.info').select_one('.title').get_text().strip()\r\n",
        "        artist = tr.select_one('.info').select_one('.artist').get_text().strip()\r\n",
        "        album = tr.select_one('.info').select_one('.albumtitle').get_text().strip()\r\n",
        "\r\n",
        "        rank_list.append(rank)\r\n",
        "        title_list.append(title)\r\n",
        "        artist_list.append(artist)\r\n",
        "        album_list.append(album)    \r\n",
        "\r\n",
        "    "
      ],
      "outputs": [],
      "metadata": {
        "id": "TsyAwHAcj-4U"
      }
    },
    {
      "cell_type": "code",
      "execution_count": 5,
      "source": [
        "df = pd.DataFrame({\r\n",
        "    '순위':rank_list, '곡명': title_list,\r\n",
        "    '가수':artist_list, '앨범':album_list\r\n",
        "})\r\n",
        "df.tail()"
      ],
      "outputs": [
        {
          "output_type": "execute_result",
          "data": {
            "text/plain": [
              "      순위             곡명           가수                                 앨범\n",
              "195  196  Downtown Baby    블루 (BLOO)                      Downtown Baby\n",
              "196  197          노래방에서          장범준                             장범준 3집\n",
              "197  198       널 너무 모르고  헤이즈 (Heize)                      /// (너 먹구름 비)\n",
              "198  199   너에게 난, 나에게 넌      미도와 파라솔  슬기로운 의사생활 OST Part 12 (tvN 목요드라마)\n",
              "199  200           Rose    디오 (D.O.)            공감 - The 1st Mini Album"
            ],
            "text/html": [
              "<div>\n",
              "<style scoped>\n",
              "    .dataframe tbody tr th:only-of-type {\n",
              "        vertical-align: middle;\n",
              "    }\n",
              "\n",
              "    .dataframe tbody tr th {\n",
              "        vertical-align: top;\n",
              "    }\n",
              "\n",
              "    .dataframe thead th {\n",
              "        text-align: right;\n",
              "    }\n",
              "</style>\n",
              "<table border=\"1\" class=\"dataframe\">\n",
              "  <thead>\n",
              "    <tr style=\"text-align: right;\">\n",
              "      <th></th>\n",
              "      <th>순위</th>\n",
              "      <th>곡명</th>\n",
              "      <th>가수</th>\n",
              "      <th>앨범</th>\n",
              "    </tr>\n",
              "  </thead>\n",
              "  <tbody>\n",
              "    <tr>\n",
              "      <th>195</th>\n",
              "      <td>196</td>\n",
              "      <td>Downtown Baby</td>\n",
              "      <td>블루 (BLOO)</td>\n",
              "      <td>Downtown Baby</td>\n",
              "    </tr>\n",
              "    <tr>\n",
              "      <th>196</th>\n",
              "      <td>197</td>\n",
              "      <td>노래방에서</td>\n",
              "      <td>장범준</td>\n",
              "      <td>장범준 3집</td>\n",
              "    </tr>\n",
              "    <tr>\n",
              "      <th>197</th>\n",
              "      <td>198</td>\n",
              "      <td>널 너무 모르고</td>\n",
              "      <td>헤이즈 (Heize)</td>\n",
              "      <td>/// (너 먹구름 비)</td>\n",
              "    </tr>\n",
              "    <tr>\n",
              "      <th>198</th>\n",
              "      <td>199</td>\n",
              "      <td>너에게 난, 나에게 넌</td>\n",
              "      <td>미도와 파라솔</td>\n",
              "      <td>슬기로운 의사생활 OST Part 12 (tvN 목요드라마)</td>\n",
              "    </tr>\n",
              "    <tr>\n",
              "      <th>199</th>\n",
              "      <td>200</td>\n",
              "      <td>Rose</td>\n",
              "      <td>디오 (D.O.)</td>\n",
              "      <td>공감 - The 1st Mini Album</td>\n",
              "    </tr>\n",
              "  </tbody>\n",
              "</table>\n",
              "</div>"
            ]
          },
          "metadata": {},
          "execution_count": 5
        }
      ],
      "metadata": {
        "colab": {
          "base_uri": "https://localhost:8080/",
          "height": 205
        },
        "id": "3V1gdyOwpM-0",
        "outputId": "91fcbc97-9438-440c-8210-1e23ccd7f148"
      }
    },
    {
      "cell_type": "code",
      "execution_count": 10,
      "source": [
        "df.to_csv('GenieTop200(210817).csv', index =False)"
      ],
      "outputs": [],
      "metadata": {
        "id": "TwgqLjRKj-6z"
      }
    },
    {
      "cell_type": "code",
      "execution_count": 25,
      "source": [],
      "outputs": [],
      "metadata": {
        "id": "3TbNgHx1j-9T"
      }
    },
    {
      "cell_type": "code",
      "execution_count": 25,
      "source": [],
      "outputs": [],
      "metadata": {
        "id": "2jPhmLwSj-_z"
      }
    },
    {
      "cell_type": "code",
      "execution_count": 25,
      "source": [],
      "outputs": [],
      "metadata": {
        "id": "Cu1xSPpbj_Cz"
      }
    },
    {
      "cell_type": "code",
      "execution_count": 25,
      "source": [],
      "outputs": [],
      "metadata": {
        "id": "IguHTenwj_Fj"
      }
    },
    {
      "cell_type": "code",
      "execution_count": 25,
      "source": [],
      "outputs": [],
      "metadata": {
        "id": "8zYlBHbrj_Im"
      }
    },
    {
      "cell_type": "code",
      "execution_count": null,
      "source": [],
      "outputs": [],
      "metadata": {
        "id": "x3Cda9Scj_LD"
      }
    }
  ]
}