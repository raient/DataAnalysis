{
  "nbformat": 4,
  "nbformat_minor": 2,
  "metadata": {
    "colab": {
      "name": "01_BeautifulSoup.ipynb",
      "provenance": [],
      "collapsed_sections": []
    },
    "kernelspec": {
      "name": "python3",
      "display_name": "Python 3"
    },
    "language_info": {
      "name": "python"
    }
  },
  "cells": [
    {
      "cell_type": "code",
      "execution_count": 13,
      "source": [
        "from bs4 import BeautifulSoup\r\n",
        "with open('ex.html') as fp:\r\n",
        "    soup = BeautifulSoup(fp, 'html.parser')"
      ],
      "outputs": [],
      "metadata": {
        "id": "8on5SHSaTApX"
      }
    },
    {
      "cell_type": "code",
      "execution_count": 14,
      "source": [
        "soup"
      ],
      "outputs": [
        {
          "output_type": "execute_result",
          "data": {
            "text/plain": [
              "<!DOCTYPE html>\n",
              "\n",
              "<html lang=\"en\">\n",
              "<head>\n",
              "<meta charset=\"utf-8\"/>\n",
              "<meta content=\"width=device-width, initial-scale=1.0\" name=\"viewport\"/>\n",
              "<title>Web Crawling Example</title>\n",
              "</head>\n",
              "<body>\n",
              "<div>\n",
              "<p>a</p><p>b</p><p>c</p>\n",
              "</div>\n",
              "<div class=\"ex_class sample\">\n",
              "<p>1</p><p>2</p><p>3</p>\n",
              "</div>\n",
              "<div id=\"ex_id\">\n",
              "<p>X</p><p>Y</p><p>Z</p>\n",
              "</div>\n",
              "<h1>This is a heading.</h1>\n",
              "<p>This is a paragraph.</p>\n",
              "<p>This is another paragraph.</p>\n",
              "<a class=\"a sample\" href=\"www.naver.com\">Naver</a>\n",
              "</body>\n",
              "</html>"
            ]
          },
          "metadata": {
            "tags": []
          },
          "execution_count": 14
        }
      ],
      "metadata": {
        "colab": {
          "base_uri": "https://localhost:8080/"
        },
        "id": "XGv9OOfETg0x",
        "outputId": "bacabfe9-2863-4eb1-f421-308e95b67af3"
      }
    },
    {
      "cell_type": "code",
      "execution_count": 15,
      "source": [
        "first_div = soup.find('div') # find - 한개만 찾는 메서드\r\n",
        "first_div\r\n"
      ],
      "outputs": [
        {
          "output_type": "execute_result",
          "data": {
            "text/plain": [
              "<div>\n",
              "<p>a</p><p>b</p><p>c</p>\n",
              "</div>"
            ]
          },
          "metadata": {
            "tags": []
          },
          "execution_count": 15
        }
      ],
      "metadata": {
        "colab": {
          "base_uri": "https://localhost:8080/"
        },
        "id": "2PwpIe7hTkWa",
        "outputId": "bc14e625-bae1-4342-f459-93bb7c1d94e4"
      }
    },
    {
      "cell_type": "code",
      "execution_count": 19,
      "source": [
        "all_div = soup.find_all('div')# find_all 모두를 찾는 메소드\r\n",
        "all_div"
      ],
      "outputs": [
        {
          "output_type": "execute_result",
          "data": {
            "text/plain": [
              "[<div>\n",
              " <p>a</p><p>b</p><p>c</p>\n",
              " </div>, <div class=\"ex_class sample\">\n",
              " <p>1</p><p>2</p><p>3</p>\n",
              " </div>, <div id=\"ex_id\">\n",
              " <p>X</p><p>Y</p><p>Z</p>\n",
              " </div>]"
            ]
          },
          "metadata": {
            "tags": []
          },
          "execution_count": 19
        }
      ],
      "metadata": {
        "colab": {
          "base_uri": "https://localhost:8080/"
        },
        "id": "eQAMshhNUTiT",
        "outputId": "84936377-e238-4239-ffa6-89a15a1b0f23"
      }
    },
    {
      "cell_type": "code",
      "execution_count": 20,
      "source": [
        "all_ps = soup.find_all('p')\r\n",
        "len(all_ps)"
      ],
      "outputs": [
        {
          "output_type": "execute_result",
          "data": {
            "text/plain": [
              "11"
            ]
          },
          "metadata": {
            "tags": []
          },
          "execution_count": 20
        }
      ],
      "metadata": {
        "colab": {
          "base_uri": "https://localhost:8080/"
        },
        "id": "rRgHSR8-Ukk5",
        "outputId": "39a716a9-d2fe-4b46-d333-0014c40bf11c"
      }
    },
    {
      "cell_type": "markdown",
      "source": [
        "- 태그와 속성을 이용해 가져오기\n",
        "- select_one - CSS Selector로 하나만 찾는 메서드\n",
        "    - select_one()"
      ],
      "metadata": {
        "id": "Xqe7YJbTVURz"
      }
    },
    {
      "cell_type": "code",
      "execution_count": 22,
      "source": [
        "ex_id_div = soup.select_one('#ex_id')\r\n",
        "ex_id_div\r\n"
      ],
      "outputs": [
        {
          "output_type": "execute_result",
          "data": {
            "text/plain": [
              "<div id=\"ex_id\">\n",
              "<p>X</p><p>Y</p><p>Z</p>\n",
              "</div>"
            ]
          },
          "metadata": {
            "tags": []
          },
          "execution_count": 22
        }
      ],
      "metadata": {
        "id": "w5ZNpW_OVlMS",
        "colab": {
          "base_uri": "https://localhost:8080/"
        },
        "outputId": "c8c4dc09-2129-4c60-9cd8-f0562f2eb901"
      }
    },
    {
      "cell_type": "code",
      "execution_count": 25,
      "source": [
        "# 클래스명은 앞에 . 을 붙이고, 공백도 .으로 표현한다.\n",
        "# select_one()\n",
        "ex_sample_div = soup.select_one('.ex_class.sample')\n",
        "ex_sample_div"
      ],
      "outputs": [
        {
          "output_type": "execute_result",
          "data": {
            "text/plain": [
              "<div class=\"ex_class sample\">\n",
              "<p>1</p><p>2</p><p>3</p>\n",
              "</div>"
            ]
          },
          "metadata": {
            "tags": []
          },
          "execution_count": 25
        }
      ],
      "metadata": {
        "colab": {
          "base_uri": "https://localhost:8080/"
        },
        "id": "ZPGkP6NpWI1I",
        "outputId": "99132473-24d1-47d2-f55d-d3433e866c4f"
      }
    },
    {
      "cell_type": "markdown",
      "source": [
        "- select - CSS selector로 모두를 찾는 메서드"
      ],
      "metadata": {
        "id": "PzH8vlxwWe4S"
      }
    },
    {
      "cell_type": "code",
      "execution_count": 39,
      "source": [
        "# id를 찾을때는 이름 앞에 #을 붙인다\n",
        "ex_id_divs = soup.select('#ex_id') #  결과는 리스트로 출력\n",
        "ex_id_divs"
      ],
      "outputs": [
        {
          "output_type": "execute_result",
          "data": {
            "text/plain": [
              "[<div id=\"ex_id\">\n",
              " <p>X</p><p>Y</p><p>Z</p>\n",
              " </div>]"
            ]
          },
          "metadata": {
            "tags": []
          },
          "execution_count": 39
        }
      ],
      "metadata": {
        "colab": {
          "base_uri": "https://localhost:8080/"
        },
        "id": "30c0tb3vW4zM",
        "outputId": "40e82736-dec7-49da-e154-01425d4bffb6"
      }
    },
    {
      "cell_type": "code",
      "execution_count": 33,
      "source": [
        "# select_()\n",
        "sample_divs = soup.select('.sample')\n",
        "sample_divs"
      ],
      "outputs": [
        {
          "output_type": "execute_result",
          "data": {
            "text/plain": [
              "[<div class=\"ex_class sample\">\n",
              " <p>1</p><p>2</p><p>3</p>\n",
              " </div>, <a class=\"a sample\" href=\"www.naver.com\">Naver</a>]"
            ]
          },
          "metadata": {
            "tags": []
          },
          "execution_count": 33
        }
      ],
      "metadata": {
        "colab": {
          "base_uri": "https://localhost:8080/"
        },
        "id": "cPHjYcI9XEOj",
        "outputId": "6f98327c-2065-4e7d-d7d1-58b18422887e"
      }
    },
    {
      "cell_type": "code",
      "execution_count": 34,
      "source": [
        "# <a class=\"a sample\" href=\"www.naver.com\">Naver</a>\n",
        "result = soup.select_one('.a.sample').get_text()\n",
        "result"
      ],
      "outputs": [
        {
          "output_type": "execute_result",
          "data": {
            "text/plain": [
              "'Naver'"
            ],
            "application/vnd.google.colaboratory.intrinsic+json": {
              "type": "string"
            }
          },
          "metadata": {
            "tags": []
          },
          "execution_count": 34
        }
      ],
      "metadata": {
        "colab": {
          "base_uri": "https://localhost:8080/",
          "height": 36
        },
        "id": "mefXCjQEXSRT",
        "outputId": "9495a48a-fb6f-4399-e76c-1b32fcef57f6"
      }
    },
    {
      "cell_type": "code",
      "execution_count": 36,
      "source": [
        "result = soup.select_one('.a.sample').string\n",
        "result"
      ],
      "outputs": [
        {
          "output_type": "execute_result",
          "data": {
            "text/plain": [
              "'Naver'"
            ],
            "application/vnd.google.colaboratory.intrinsic+json": {
              "type": "string"
            }
          },
          "metadata": {
            "tags": []
          },
          "execution_count": 36
        }
      ],
      "metadata": {
        "colab": {
          "base_uri": "https://localhost:8080/",
          "height": 36
        },
        "id": "-LFywtvfX8EM",
        "outputId": "ec6eb328-5596-41b1-a8e3-353df2c769d4"
      }
    },
    {
      "cell_type": "code",
      "execution_count": 38,
      "source": [
        "href = soup.select_one('.a.sample')['href']\n",
        "href"
      ],
      "outputs": [
        {
          "output_type": "execute_result",
          "data": {
            "text/plain": [
              "'www.naver.com'"
            ],
            "application/vnd.google.colaboratory.intrinsic+json": {
              "type": "string"
            }
          },
          "metadata": {
            "tags": []
          },
          "execution_count": 38
        }
      ],
      "metadata": {
        "colab": {
          "base_uri": "https://localhost:8080/",
          "height": 36
        },
        "id": "SxJLIhlIYaqy",
        "outputId": "0af2dbb2-90b3-4c68-9e0e-9d792b317006"
      }
    },
    {
      "cell_type": "markdown",
      "source": [
        "- p 태그의 x,y,z 값 가져오기"
      ],
      "metadata": {
        "id": "htbG717JYwBh"
      }
    },
    {
      "cell_type": "code",
      "execution_count": 42,
      "source": [
        "ex_id_div = soup.select_one('#ex_id')\n",
        "all_ps = ex_id_div.select('p')\n",
        "for p in all_ps:\n",
        "    print(p.string)"
      ],
      "outputs": [
        {
          "output_type": "stream",
          "name": "stdout",
          "text": [
            "X\n",
            "Y\n",
            "Z\n"
          ]
        }
      ],
      "metadata": {
        "colab": {
          "base_uri": "https://localhost:8080/"
        },
        "id": "dJ4TTgipYkgD",
        "outputId": "c5687c68-5c98-49a6-e547-184b1a8b09e6"
      }
    },
    {
      "cell_type": "code",
      "execution_count": null,
      "source": [],
      "outputs": [],
      "metadata": {
        "id": "0OX1w8uHZqna"
      }
    }
  ]
}